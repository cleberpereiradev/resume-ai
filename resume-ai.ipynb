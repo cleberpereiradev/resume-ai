{
 "cells": [
  {
   "cell_type": "markdown",
   "metadata": {
    "id": "0miySvM_Z71A"
   },
   "source": [
    "# Resumidor de notícias - Resume-AI"
   ]
  },
  {
   "cell_type": "markdown",
   "metadata": {
    "id": "4CqY6ZBUZ-g2"
   },
   "source": [
    "## Descrição e Motivação do Problema\n",
    "\n",
    "#### Motivação: Resumir automaticamente notícias em português de forma eficiente e precisa.\n",
    "#### Problema: O volume de notícias cresce exponencialmente, tornando difícil acompanhar informações relevantes. Um sistema de resumo automático ajuda a poupar tempo e identificar conteúdos importantes rapidamente.\n",
    "#### Solução que visa gerar material para conteúdos curtos nas principais redes sociais atuais (TikTok, Shorts do Youtube, Stories do Instagram), rentabibilizar projeto Resume-AI com assinatura pagas para acesso ao conteúdo gerado pelo algoritmo.\n",
    "#### Criar uma solução para ler notícias em veículos de informação de forma rápida, com informações verídicas e completas obtidas através da análise das notícias completas e resumidas em manchetes ou pequenos textos."
   ]
  },
  {
   "cell_type": "code",
   "execution_count": null,
   "metadata": {
    "colab": {
     "base_uri": "https://localhost:8080/"
    },
    "id": "z6EzNQ498T-D",
    "outputId": "b8ea1e55-7193-41ea-be7e-459da94df198"
   },
   "outputs": [],
   "source": [
    "from transformers import T5Tokenizer, T5ForConditionalGeneration\n",
    "from rouge_score import rouge_scorer\n",
    "import requests\n",
    "from bs4 import BeautifulSoup"
   ]
  },
  {
   "cell_type": "code",
   "execution_count": null,
   "metadata": {},
   "outputs": [],
   "source": [
    "modelo = T5ForConditionalGeneration.from_pretrained(\"t5-large\")\n",
    "tokenizador = T5Tokenizer.from_pretrained(\"t5-large\")"
   ]
  },
  {
   "cell_type": "markdown",
   "metadata": {},
   "source": [
    "# Função para fazer scraping do artigo"
   ]
  },
  {
   "cell_type": "code",
   "execution_count": null,
   "metadata": {},
   "outputs": [],
   "source": [
    "def web_scraping_artigo(urls):\n",
    "    texto_artigo = \"\"\n",
    "    for url in urls:\n",
    "        resposta = requests.get(url)\n",
    "        soup = BeautifulSoup(resposta.text, 'html.parser')\n",
    "        paragrafos = soup.find_all('p')\n",
    "        texto_artigo += \" \".join([p.get_text() for p in paragrafos])\n",
    "    return texto_artigo"
   ]
  },
  {
   "cell_type": "code",
   "execution_count": null,
   "metadata": {},
   "outputs": [],
   "source": [
    "def resumir_texto(texto):\n",
    "    texto_entrada = \"summarize: \" + texto\n",
    "    ids_entrada = tokenizador.encode(texto_entrada, return_tensors=\"pt\", max_length=512, truncation=True, padding=\"longest\")\n",
    "\n",
    "    ids_resumo = modelo.generate(\n",
    "        ids_entrada,\n",
    "        max_length=500,\n",
    "        num_beams=8,\n",
    "        length_penalty=5,\n",
    "        early_stopping=True\n",
    "    )\n",
    "\n",
    "    resumo = tokenizador.decode(ids_resumo[0], skip_special_tokens=True)\n",
    "    return resumo"
   ]
  },
  {
   "cell_type": "code",
   "execution_count": null,
   "metadata": {},
   "outputs": [],
   "source": [
    "def avaliar_resumo(resumo_referencia, resumo_gerado):\n",
    "    avaliador = rouge_scorer.RougeScorer(['rouge1', 'rouge2', 'rougeL'], use_stemmer=True)\n",
    "    pontuacoes = avaliador.score(resumo_referencia, resumo_gerado)\n",
    "    return pontuacoes"
   ]
  },
  {
   "cell_type": "code",
   "execution_count": null,
   "metadata": {},
   "outputs": [],
   "source": [
    "def processar_urls(urls, resumos_referencia):\n",
    "    todos_resultados = []\n",
    "\n",
    "    for idx, url in enumerate(urls):\n",
    "        texto_artigo = web_scraping_artigo([url])\n",
    "        resumo_gerado = resumir_texto(texto_artigo)\n",
    "\n",
    "        resumo_referencia = resumos_referencia[idx]\n",
    "\n",
    "        resultados_avaliacao = avaliar_resumo(resumo_referencia, resumo_gerado)\n",
    "        todos_resultados.append({\n",
    "            \"url\": url,\n",
    "            \"resumo_gerado\": resumo_gerado,\n",
    "            \"resultados_avaliacao\": resultados_avaliacao\n",
    "        })\n",
    "\n",
    "    return todos_resultados"
   ]
  },
  {
   "cell_type": "markdown",
   "metadata": {},
   "source": [
    "# URLs utilizadas"
   ]
  },
  {
   "cell_type": "code",
   "execution_count": null,
   "metadata": {},
   "outputs": [],
   "source": [
    "\n",
    "urls = [\n",
    "    'https://g1.globo.com/carros/noticia/2024/11/30/veja-a-lista-de-10-carros-que-reprovaram-no-teste-de-seguranca-do-latin-ncap.ghtml',\n",
    "    'https://oglobo.globo.com/mundo/noticia/2024/11/30/tres-dias-apos-cessar-fogo-israel-ataca-hezbollah-no-sul-do-libano.ghtml',\n",
    "    'https://g1.globo.com/ms/mato-grosso-do-sul/noticia/2024/11/29/principal-vitima-de-venda-de-sentencas-bb-teve-prejuizos-que-ultrapassam-r200-milhoes.ghtml',\n",
    "    'https://ge.globo.com/futebol/times/vasco/noticia/2024/11/30/torcedor-do-vasco-pedala-do-espirito-santo-ao-rio-para-assistir-ao-jogo-contra-o-atletico-go.ghtml',\n",
    "    'https://oglobo.globo.com/cultura/noticia/2024/11/30/empresario-que-pagou-r-37-milhoes-por-banana-colada-com-fita-se-oferece-para-comprar-r-150-mil-em-banca-que-vendeu-fruta-original.ghtml'\n",
    "]"
   ]
  },
  {
   "cell_type": "markdown",
   "metadata": {},
   "source": [
    "# Resumos de referência"
   ]
  },
  {
   "cell_type": "code",
   "execution_count": null,
   "metadata": {},
   "outputs": [],
   "source": [
    "\n",
    "resumos_referencia = [\n",
    "    'A Mitsubishi L200 Triton foi a primeira picape a alcançar a nota máxima de cinco estrelas nos testes de segurança do Latin NCAP, seguindo os novos protocolos implementados desde 2020. Este resultado é uma grande melhoria, considerando que a versão de 2019 do veículo havia obtido zero estrelas.',\n",
    "    'Três dias após o cessar-fogo, Israel atacou posições do Hezbollah no sul do Líbano, mantendo a tensão elevada na região. A ofensiva ocorre enquanto o país se mantém alerta sobre a possibilidade de violação do acordo de cessar-fogo, ao mesmo tempo em que intensifica os ataques em Gaza.',\n",
    "    'O Banco do Brasil é uma das principais vítimas de um esquema de venda de decisões judiciais, que está sendo investigado pela Polícia Federal. O caso envolve desembargadores do Tribunal de Justiça de Mato Grosso do Sul e tem causado prejuízos que ultrapassam os R$ 200 milhões.',\n",
    "    'João Willians, torcedor do Vasco, fez uma grande jornada ao pedalar de Cariacica (ES) até o Rio de Janeiro para assistir ao jogo do time contra o Atlético-GO. Além disso, o jogador Paulinho foi novamente relacionado para o time após um longo período de ausência.',\n",
    "    'O empresário chinês de criptomoedas Justin Sun ficou famoso após pagar R$ 37 milhões por uma \"banana colada com fita\". Agora, ele anunciou que planeja comprar 100 mil bananas, equivalentes a R$ 150 mil, do quiosque em Manhattan onde a banana original foi vendida, gerando mais repercussão nas redes sociais.'\n",
    "]"
   ]
  },
  {
   "cell_type": "markdown",
   "metadata": {},
   "source": [
    "# Processar as URLs e avaliar os resumos"
   ]
  },
  {
   "cell_type": "code",
   "execution_count": null,
   "metadata": {},
   "outputs": [],
   "source": [
    "resultados = processar_urls(urls, resumos_referencia)"
   ]
  },
  {
   "cell_type": "markdown",
   "metadata": {},
   "source": [
    "# Exibir os resultados"
   ]
  },
  {
   "cell_type": "code",
   "execution_count": null,
   "metadata": {},
   "outputs": [],
   "source": [
    "for resultado in resultados:\n",
    "    print(f\"URL: {resultado['url']}\")\n",
    "    print(f\"Resumo gerado: {resultado['resumo_gerado']}\")\n",
    "    print(f\"Avaliação ROUGE: {resultado['resultados_avaliacao']}\\n\")"
   ]
  },
  {
   "cell_type": "markdown",
   "metadata": {
    "id": "hXiW2IXrimgV"
   },
   "source": [
    "# Ranking (Melhores Resumos)\n",
    "\n",
    "| **Posição** | **Resumo (URL)**                                     | **Média F1** |\n",
    "|-------------|------------------------------------------------------|--------------|\n",
    "| **1º**      | [Banana colada com fita](https://oglobo.globo.com/cultura/noticia/2024/11/30/empresario-que-pagou-r-37-milhoes-por-banana-colada-com-fita-se-oferece-para-comprar-r-150-mil-em-banca-que-vendeu-fruta-original.ghtml) | **0.553**    |\n",
    "| **2º**      | [Teste do Latin NCAP](https://g1.globo.com/carros/noticia/2024/11/30/veja-a-lista-de-10-carros-que-reprovaram-no-teste-de-seguranca-do-latin-ncap.ghtml)                                              | **0.553**    |\n",
    "| **3º**      | [Torcedor do Vasco](https://ge.globo.com/futebol/times/vasco/noticia/2024/11/30/torcedor-do-vasco-pedala-do-espirito-santo-ao-rio-para-assistir-ao-jogo-contra-o-atletico-go.ghtml)                           | **0.453**    |\n",
    "| **4º**      | [Esquema no TJMS](https://g1.globo.com/ms/mato-grosso-do-sul/noticia/2024/11/29/principal-vitima-de-venda-de-sentencas-bb-teve-prejuizos-que-ultrapassam-r200-milhoes.ghtml)                             | **0.398**    |\n",
    "| **5º**      | [Ataques de Israel](https://oglobo.globo.com/mundo/noticia/2024/11/30/tres-dias-apos-cessar-fogo-israel-ataca-hezbollah-no-sul-do-libano.ghtml)                                                       | **0.325**    |\n",
    "\n",
    "---\n",
    "\n",
    "## Análise\n",
    "\n",
    "### Melhor Resumo\n",
    "Os resumos da **\"Banana colada com fita\"** e do **\"Teste do Latin NCAP\"** empataram com a maior média F1 (**0.553**). Ambos apresentaram alta fidelidade e abrangência em relação aos textos de referência.\n",
    "\n",
    "### Pior Resumo\n",
    "O resumo dos **\"Ataques de Israel\"** apresenta a menor média F1 (**0.325**), evidenciando menor fidelidade e dificuldade em abordar a complexidade do conteúdo original."
   ]
  },
  {
   "cell_type": "markdown",
   "metadata": {},
   "source": [
    "## Discussão dos Resultados e Trabalhos Futuros\n",
    "### Melhor Desempenho\n",
    "#### Os resumos de \"Banana colada com fita\" e \"Teste do Latin NCAP\" empataram, apresentando alta fidelidade e cobertura de informações relevantes.\n",
    "\n",
    "## Desafios Identificados\n",
    "### O resumo de \"Ataques de Israel\" teve o pior desempenho, sugerindo a necessidade de melhorias no tratamento de textos densos e com informações complexas.\n",
    "\n",
    "## Trabalhos Futuros\n",
    "### Explorar ajustes finos no modelo T5 para resumo em português.\n",
    "#### Incorporar técnicas de aprendizado ativo para melhorar o alinhamento semântico.\n",
    "#### Desenvolver interfaces visuais para integração com redes sociais."
   ]
  }
 ],
 "metadata": {
  "colab": {
   "provenance": []
  },
  "kernelspec": {
   "display_name": "Python 3",
   "name": "python3"
  },
  "language_info": {
   "name": "python",
   "version": "3.12.3"
  }
 },
 "nbformat": 4,
 "nbformat_minor": 0
}
